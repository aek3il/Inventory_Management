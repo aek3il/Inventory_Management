{
  "nbformat": 4,
  "nbformat_minor": 0,
  "metadata": {
    "colab": {
      "name": "Purchase.ipynb",
      "provenance": [],
      "collapsed_sections": [],
      "authorship_tag": "ABX9TyMNJigGp9oX5MsY3gV6tOXF",
      "include_colab_link": true
    },
    "kernelspec": {
      "name": "python3",
      "display_name": "Python 3"
    },
    "language_info": {
      "name": "python"
    }
  },
  "cells": [
    {
      "cell_type": "markdown",
      "metadata": {
        "id": "view-in-github",
        "colab_type": "text"
      },
      "source": [
        "<a href=\"https://colab.research.google.com/github/aek3il/Inventory_Management/blob/main/Purchase.ipynb\" target=\"_parent\"><img src=\"https://colab.research.google.com/assets/colab-badge.svg\" alt=\"Open In Colab\"/></a>"
      ]
    },
    {
      "cell_type": "code",
      "metadata": {
        "id": "WqfZuFTPLC8i"
      },
      "source": [
        "import json\n",
        "fd = open(\"inventory.json\",'r')\n",
        "r = fd.read()\n",
        "fd.close()\n",
        "\n",
        "records = json.loads(r)"
      ],
      "execution_count": 52,
      "outputs": []
    },
    {
      "cell_type": "code",
      "metadata": {
        "id": "n4ZYYh5tdqnQ",
        "colab": {
          "base_uri": "https://localhost:8080/"
        },
        "outputId": "2d463343-ee34-40cd-d1a8-c141b3c7dbe4"
      },
      "source": [
        "records"
      ],
      "execution_count": 53,
      "outputs": [
        {
          "output_type": "execute_result",
          "data": {
            "text/plain": [
              "{'1001': {'category': 'Food',\n",
              "  'name': 'Lays Chips 25g',\n",
              "  'price': 10,\n",
              "  'quantity': 25,\n",
              "  'rating': 8},\n",
              " '1002': {'category': 'Food',\n",
              "  'name': 'Dairy Milk 25g',\n",
              "  'price': 25,\n",
              "  'quantity': 40,\n",
              "  'rating': 8},\n",
              " '1003': {'category': 'Dairy',\n",
              "  'name': 'Butter 50g',\n",
              "  'price': 50,\n",
              "  'quantity': 98,\n",
              "  'rating': 9},\n",
              " '1004': {'category': 'Drinks',\n",
              "  'name': 'Coffee 25ml',\n",
              "  'price': 99,\n",
              "  'quantity': 150,\n",
              "  'rating': 7},\n",
              " '1005': {'category': 'Drinks',\n",
              "  'name': 'Natural Mixed Fruit Juice 1L',\n",
              "  'price': 149,\n",
              "  'quantity': 100,\n",
              "  'rating': 8},\n",
              " '1006': {'category': 'Drinks',\n",
              "  'name': 'Real Orange Juice 1L',\n",
              "  'price': 99,\n",
              "  'quantity': 25,\n",
              "  'rating': 8},\n",
              " '1007': {'category': 'Dairy',\n",
              "  'name': 'Milk 500ml',\n",
              "  'price': 25,\n",
              "  'quantity': 250,\n",
              "  'rating': 8},\n",
              " '1008': {'category': 'Drinks',\n",
              "  'name': 'Rasna Pulpy Mango 1L',\n",
              "  'price': 49,\n",
              "  'quantity': 120,\n",
              "  'rating': 7},\n",
              " '1009': {'category': 'Drinks',\n",
              "  'name': 'Minute Made Orange Pulp 1L',\n",
              "  'price': 52,\n",
              "  'quantity': 99,\n",
              "  'rating': 10},\n",
              " '1010': {'category': 'Eatables',\n",
              "  'name': 'Rice 1Kg',\n",
              "  'price': 129,\n",
              "  'quantity': 100,\n",
              "  'rating': 8},\n",
              " '1011': {'category': 'Eatables',\n",
              "  'name': 'Fortune Cooking Oil 700ml',\n",
              "  'price': 149,\n",
              "  'quantity': 120,\n",
              "  'rating': 9},\n",
              " '1012': {'category': 'Cosmetics',\n",
              "  'name': 'Hair and Care Shampoo 1L',\n",
              "  'price': 299,\n",
              "  'quantity': 260,\n",
              "  'rating': 9},\n",
              " '1013': {'category': 'Cosmetics',\n",
              "  'name': 'Clean and Clear Face Wash 25ml',\n",
              "  'price': 149,\n",
              "  'quantity': 205,\n",
              "  'rating': 9},\n",
              " '1014': {'category': 'Cosmetics',\n",
              "  'name': 'Navaratan Hair Oil 50ml',\n",
              "  'price': 29,\n",
              "  'quantity': 150,\n",
              "  'rating': 8},\n",
              " '1015': {'category': 'Cosmetics',\n",
              "  'name': 'Vicks 5g',\n",
              "  'price': 5,\n",
              "  'quantity': 100,\n",
              "  'rating': 10},\n",
              " '1016': {'category': 'Cosmetics',\n",
              "  'name': 'Himalaya Face Wash 50g',\n",
              "  'price': 99,\n",
              "  'quantity': 30,\n",
              "  'rating': 9},\n",
              " '1017': {'category': 'Cosmetics',\n",
              "  'name': 'Ponds Cream 25g',\n",
              "  'price': 49,\n",
              "  'quantity': 25,\n",
              "  'rating': 9},\n",
              " '1018': {'category': 'Cosmetics',\n",
              "  'name': 'Vaseline Body Lotion 100g',\n",
              "  'price': 150,\n",
              "  'quantity': 140,\n",
              "  'rating': 9},\n",
              " '1019': {'category': 'Food',\n",
              "  'name': 'Breads 100g',\n",
              "  'price': 35,\n",
              "  'quantity': 120,\n",
              "  'rating': 8},\n",
              " '1020': {'category': 'Food',\n",
              "  'name': 'Ready to Eat Paneer 100g',\n",
              "  'price': 150,\n",
              "  'quantity': 138,\n",
              "  'rating': 6},\n",
              " '1021': {'category': 'Cereal',\n",
              "  'name': 'Corn Flakes 50g',\n",
              "  'price': 49,\n",
              "  'quantity': 100,\n",
              "  'rating': 8},\n",
              " '1022': {'category': 'Cereal',\n",
              "  'name': 'Rice Flakes 50g',\n",
              "  'price': 49,\n",
              "  'quantity': 47,\n",
              "  'rating': 8},\n",
              " '1023': {'category': 'Cereal',\n",
              "  'name': 'Masala Oats 100g',\n",
              "  'price': 80,\n",
              "  'quantity': 100,\n",
              "  'rating': 9},\n",
              " '1024': {'category': 'Cereal',\n",
              "  'name': 'Sweet Oats 100g',\n",
              "  'price': 99,\n",
              "  'quantity': 90,\n",
              "  'rating': 9},\n",
              " '1025': {'category': 'Health',\n",
              "  'name': 'Colgate Toothpaste 100g',\n",
              "  'price': 49,\n",
              "  'quantity': 100,\n",
              "  'rating': 8},\n",
              " '1026': {'category': 'Health',\n",
              "  'name': 'Listerine Mouth Wash 100ml',\n",
              "  'price': 100,\n",
              "  'quantity': 80,\n",
              "  'rating': 8},\n",
              " '1027': {'category': 'Stationary',\n",
              "  'name': 'Rough Note Book 255 Pages',\n",
              "  'price': 20,\n",
              "  'quantity': 200,\n",
              "  'rating': 8},\n",
              " '1028': {'category': 'Stationary',\n",
              "  'name': 'Blue Gel Pen',\n",
              "  'price': 10,\n",
              "  'quantity': 190,\n",
              "  'rating': 9},\n",
              " '1029': {'category': 'Stationary',\n",
              "  'name': 'Long Note Book set of 5',\n",
              "  'price': 99,\n",
              "  'quantity': 50,\n",
              "  'rating': 8},\n",
              " '1030': {'category': 'Stationary',\n",
              "  'name': 'Daily Diary',\n",
              "  'price': 99,\n",
              "  'quantity': 50,\n",
              "  'rating': 9}}"
            ]
          },
          "metadata": {},
          "execution_count": 53
        }
      ]
    },
    {
      "cell_type": "code",
      "metadata": {
        "colab": {
          "base_uri": "https://localhost:8080/"
        },
        "id": "FUiRRrpfdn0j",
        "outputId": "ff94c32f-f0cc-4087-f702-a190cc860fbf"
      },
      "source": [
        "prod  = str(input(\"Enter Product ID: \"))\n",
        "quant = input(\"Enter the Quantity: \")\n",
        "from datetime import datetime    \n",
        "import pytz\n",
        "tz_NY = pytz.timezone('Asia/Kolkata')   \n",
        "datetime_NY = datetime.now(tz_NY)\n",
        "time = datetime_NY.strftime(\"%H:%M %d-%m-%Y\")\n",
        "\n",
        "print(\"----------------------------\")\n",
        "print(\"Purchase Time:\", time )  \n",
        "print(\"Product: \", records[prod]['name'])\n",
        "print(\"Price: \", records[prod]['price'])\n",
        "print(\"Item Quantity: \", quant)\n",
        "print(\"----------------------------\")\n",
        "print(\"Billing Amount: \", int(records[prod]['price']) * int(quant))\n",
        "\n",
        "print(\"****************************\")\n",
        "print(\"\\U0001F600\", \"Thanks for Shopping\", \"\\U0001F600\")\n",
        "\n",
        "records[prod]['quantity'] = int(records[prod]['quantity']) - int(quant)"
      ],
      "execution_count": 54,
      "outputs": [
        {
          "output_type": "stream",
          "name": "stdout",
          "text": [
            "Enter Product ID: 1004\n",
            "Enter the Quantity: 5\n",
            "----------------------------\n",
            "Purchase Time: 10:45 06-09-2021\n",
            "Product:  Coffee 25ml\n",
            "Price:  99\n",
            "Item Quantity:  5\n",
            "----------------------------\n",
            "Billing Amount:  495\n",
            "****************************\n",
            "😀 Thanks for Shopping 😀\n"
          ]
        }
      ]
    },
    {
      "cell_type": "code",
      "metadata": {
        "id": "GeAzHdR5cR10"
      },
      "source": [
        "js = json.dumps(records)\n",
        "\n",
        "fd = open(\"inventory.json\",'w')\n",
        "fd.write(js)\n",
        "fd.close()"
      ],
      "execution_count": 57,
      "outputs": []
    },
    {
      "cell_type": "code",
      "metadata": {
        "id": "huDxKJQMgVsO"
      },
      "source": [
        "sales = {1 : {'name':prod, 'quantity':quant, 'amount' : int(records[prod]['price']) * int(quant)}}\n",
        "sale = json.dumps(sales)\n",
        "\n",
        "fd = open(\"sales.json\",'w')\n",
        "fd.write(sale)\n",
        "fd.close()"
      ],
      "execution_count": 59,
      "outputs": []
    }
  ]
}